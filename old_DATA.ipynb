{
 "cells": [
  {
   "cell_type": "markdown",
   "metadata": {},
   "source": [
    "# Coffee Transaction Analysis During Exam Periods\n",
    "\n",
    "This analysis investigates whether coffee transaction frequency increases during midterm and final exam periods. We'll analyze personal spending data to determine if exam periods have a significant impact on coffee consumption patterns.\n",
    "\n",
    "## Hypothesis\n",
    "- **H0 (Null)**: No significant difference in coffee transaction frequency between exam and normal periods\n",
    "- **H1 (Alternative)**: Exam periods have a significant impact on coffee transaction frequency"
   ]
  },
  {
   "cell_type": "code",
   "execution_count": 1,
   "metadata": {},
   "outputs": [
    {
     "ename": "ModuleNotFoundError",
     "evalue": "No module named 'scipy'",
     "output_type": "error",
     "traceback": [
      "\u001b[1;31m---------------------------------------------------------------------------\u001b[0m",
      "\u001b[1;31mModuleNotFoundError\u001b[0m                       Traceback (most recent call last)",
      "\u001b[1;32m<ipython-input-1-854a9531f363>\u001b[0m in \u001b[0;36m<module>\u001b[1;34m\u001b[0m\n\u001b[0;32m      3\u001b[0m \u001b[1;32mimport\u001b[0m \u001b[0mnumpy\u001b[0m \u001b[1;32mas\u001b[0m \u001b[0mnp\u001b[0m\u001b[1;33m\u001b[0m\u001b[0m\n\u001b[0;32m      4\u001b[0m \u001b[1;32mfrom\u001b[0m \u001b[0mdatetime\u001b[0m \u001b[1;32mimport\u001b[0m \u001b[0mdatetime\u001b[0m\u001b[1;33m\u001b[0m\u001b[0m\n\u001b[1;32m----> 5\u001b[1;33m \u001b[1;32mfrom\u001b[0m \u001b[0mscipy\u001b[0m\u001b[1;33m.\u001b[0m\u001b[0mstats\u001b[0m \u001b[1;32mimport\u001b[0m \u001b[0mchi2_contingency\u001b[0m\u001b[1;33m\u001b[0m\u001b[0m\n\u001b[0m\u001b[0;32m      6\u001b[0m \u001b[1;32mimport\u001b[0m \u001b[0mmatplotlib\u001b[0m\u001b[1;33m.\u001b[0m\u001b[0mpyplot\u001b[0m \u001b[1;32mas\u001b[0m \u001b[0mplt\u001b[0m\u001b[1;33m\u001b[0m\u001b[0m\n",
      "\u001b[1;31mModuleNotFoundError\u001b[0m: No module named 'scipy'"
     ]
    }
   ],
   "source": [
    "# Coffee Transaction Analysis During Exam Periods\n",
    "import pandas as pd\n",
    "import numpy as np\n",
    "from datetime import datetime\n",
    "from scipy.stats import chi2_contingency\n",
    "import matplotlib.pyplot as plt"
   ]
  },
  {
   "cell_type": "markdown",
   "metadata": {},
   "source": [
    "## Data Preparation\n",
    "\n",
    "We'll process the transaction data following these steps:\n",
    "1. Read personal bank statement data\n",
    "2. Filter for coffee-related transactions\n",
    "3. Track transactions by vendor\n",
    "4. Identify transactions during exam periods"
   ]
  },
  {
   "cell_type": "code",
   "execution_count": 2,
   "metadata": {},
   "outputs": [
    {
     "ename": "ImportError",
     "evalue": "Missing optional dependency 'openpyxl'.  Use pip or conda to install openpyxl.",
     "output_type": "error",
     "traceback": [
      "\u001b[1;31m---------------------------------------------------------------------------\u001b[0m",
      "\u001b[1;31mImportError\u001b[0m                               Traceback (most recent call last)",
      "\u001b[1;32m<ipython-input-2-d57711e9d874>\u001b[0m in \u001b[0;36m<module>\u001b[1;34m\u001b[0m\n\u001b[0;32m      1\u001b[0m \u001b[1;31m# Read and process transaction data\u001b[0m\u001b[1;33m\u001b[0m\u001b[1;33m\u001b[0m\u001b[0m\n\u001b[1;32m----> 2\u001b[1;33m \u001b[0mdf\u001b[0m \u001b[1;33m=\u001b[0m \u001b[0mpd\u001b[0m\u001b[1;33m.\u001b[0m\u001b[0mread_excel\u001b[0m\u001b[1;33m(\u001b[0m\u001b[1;34m\"yeni.xlsx\"\u001b[0m\u001b[1;33m,\u001b[0m \u001b[0msheet_name\u001b[0m\u001b[1;33m=\u001b[0m\u001b[1;34m\"Sheet1\"\u001b[0m\u001b[1;33m,\u001b[0m \u001b[0mengine\u001b[0m\u001b[1;33m=\u001b[0m\u001b[1;34m\"openpyxl\"\u001b[0m\u001b[1;33m)\u001b[0m\u001b[1;33m\u001b[0m\u001b[0m\n\u001b[0m\u001b[0;32m      3\u001b[0m \u001b[1;33m\u001b[0m\u001b[0m\n\u001b[0;32m      4\u001b[0m \u001b[1;31m# Define coffee vendors\u001b[0m\u001b[1;33m\u001b[0m\u001b[1;33m\u001b[0m\u001b[0m\n\u001b[0;32m      5\u001b[0m \u001b[0mcoffee_keywords\u001b[0m \u001b[1;33m=\u001b[0m \u001b[1;33m[\u001b[0m\u001b[1;34m\"starbucks\"\u001b[0m\u001b[1;33m,\u001b[0m \u001b[1;34m\"espresso\"\u001b[0m\u001b[1;33m,\u001b[0m \u001b[1;34m\"coffy\"\u001b[0m\u001b[1;33m,\u001b[0m \u001b[1;34m\"yukselen\"\u001b[0m\u001b[1;33m,\u001b[0m\u001b[1;34m\"SABANCI UNIVERSITESI TEMASSIZ\"\u001b[0m\u001b[1;33m.\u001b[0m\u001b[0mlower\u001b[0m\u001b[1;33m(\u001b[0m\u001b[1;33m)\u001b[0m\u001b[1;33m]\u001b[0m\u001b[1;33m\u001b[0m\u001b[0m\n",
      "\u001b[1;32mc:\\Users\\omere\\AppData\\Local\\Programs\\Python\\Python36-32\\lib\\site-packages\\pandas\\util\\_decorators.py\u001b[0m in \u001b[0;36mwrapper\u001b[1;34m(*args, **kwargs)\u001b[0m\n\u001b[0;32m    294\u001b[0m                 )\n\u001b[0;32m    295\u001b[0m                 \u001b[0mwarnings\u001b[0m\u001b[1;33m.\u001b[0m\u001b[0mwarn\u001b[0m\u001b[1;33m(\u001b[0m\u001b[0mmsg\u001b[0m\u001b[1;33m,\u001b[0m \u001b[0mFutureWarning\u001b[0m\u001b[1;33m,\u001b[0m \u001b[0mstacklevel\u001b[0m\u001b[1;33m=\u001b[0m\u001b[0mstacklevel\u001b[0m\u001b[1;33m)\u001b[0m\u001b[1;33m\u001b[0m\u001b[0m\n\u001b[1;32m--> 296\u001b[1;33m             \u001b[1;32mreturn\u001b[0m \u001b[0mfunc\u001b[0m\u001b[1;33m(\u001b[0m\u001b[1;33m*\u001b[0m\u001b[0margs\u001b[0m\u001b[1;33m,\u001b[0m \u001b[1;33m**\u001b[0m\u001b[0mkwargs\u001b[0m\u001b[1;33m)\u001b[0m\u001b[1;33m\u001b[0m\u001b[0m\n\u001b[0m\u001b[0;32m    297\u001b[0m \u001b[1;33m\u001b[0m\u001b[0m\n\u001b[0;32m    298\u001b[0m         \u001b[1;32mreturn\u001b[0m \u001b[0mwrapper\u001b[0m\u001b[1;33m\u001b[0m\u001b[0m\n",
      "\u001b[1;32mc:\\Users\\omere\\AppData\\Local\\Programs\\Python\\Python36-32\\lib\\site-packages\\pandas\\io\\excel\\_base.py\u001b[0m in \u001b[0;36mread_excel\u001b[1;34m(io, sheet_name, header, names, index_col, usecols, squeeze, dtype, engine, converters, true_values, false_values, skiprows, nrows, na_values, keep_default_na, na_filter, verbose, parse_dates, date_parser, thousands, comment, skipfooter, convert_float, mangle_dupe_cols)\u001b[0m\n\u001b[0;32m    302\u001b[0m \u001b[1;33m\u001b[0m\u001b[0m\n\u001b[0;32m    303\u001b[0m     \u001b[1;32mif\u001b[0m \u001b[1;32mnot\u001b[0m \u001b[0misinstance\u001b[0m\u001b[1;33m(\u001b[0m\u001b[0mio\u001b[0m\u001b[1;33m,\u001b[0m \u001b[0mExcelFile\u001b[0m\u001b[1;33m)\u001b[0m\u001b[1;33m:\u001b[0m\u001b[1;33m\u001b[0m\u001b[0m\n\u001b[1;32m--> 304\u001b[1;33m         \u001b[0mio\u001b[0m \u001b[1;33m=\u001b[0m \u001b[0mExcelFile\u001b[0m\u001b[1;33m(\u001b[0m\u001b[0mio\u001b[0m\u001b[1;33m,\u001b[0m \u001b[0mengine\u001b[0m\u001b[1;33m=\u001b[0m\u001b[0mengine\u001b[0m\u001b[1;33m)\u001b[0m\u001b[1;33m\u001b[0m\u001b[0m\n\u001b[0m\u001b[0;32m    305\u001b[0m     \u001b[1;32melif\u001b[0m \u001b[0mengine\u001b[0m \u001b[1;32mand\u001b[0m \u001b[0mengine\u001b[0m \u001b[1;33m!=\u001b[0m \u001b[0mio\u001b[0m\u001b[1;33m.\u001b[0m\u001b[0mengine\u001b[0m\u001b[1;33m:\u001b[0m\u001b[1;33m\u001b[0m\u001b[0m\n\u001b[0;32m    306\u001b[0m         raise ValueError(\n",
      "\u001b[1;32mc:\\Users\\omere\\AppData\\Local\\Programs\\Python\\Python36-32\\lib\\site-packages\\pandas\\io\\excel\\_base.py\u001b[0m in \u001b[0;36m__init__\u001b[1;34m(self, path_or_buffer, engine)\u001b[0m\n\u001b[0;32m    865\u001b[0m         \u001b[0mself\u001b[0m\u001b[1;33m.\u001b[0m\u001b[0m_io\u001b[0m \u001b[1;33m=\u001b[0m \u001b[0mstringify_path\u001b[0m\u001b[1;33m(\u001b[0m\u001b[0mpath_or_buffer\u001b[0m\u001b[1;33m)\u001b[0m\u001b[1;33m\u001b[0m\u001b[0m\n\u001b[0;32m    866\u001b[0m \u001b[1;33m\u001b[0m\u001b[0m\n\u001b[1;32m--> 867\u001b[1;33m         \u001b[0mself\u001b[0m\u001b[1;33m.\u001b[0m\u001b[0m_reader\u001b[0m \u001b[1;33m=\u001b[0m \u001b[0mself\u001b[0m\u001b[1;33m.\u001b[0m\u001b[0m_engines\u001b[0m\u001b[1;33m[\u001b[0m\u001b[0mengine\u001b[0m\u001b[1;33m]\u001b[0m\u001b[1;33m(\u001b[0m\u001b[0mself\u001b[0m\u001b[1;33m.\u001b[0m\u001b[0m_io\u001b[0m\u001b[1;33m)\u001b[0m\u001b[1;33m\u001b[0m\u001b[0m\n\u001b[0m\u001b[0;32m    868\u001b[0m \u001b[1;33m\u001b[0m\u001b[0m\n\u001b[0;32m    869\u001b[0m     \u001b[1;32mdef\u001b[0m \u001b[0m__fspath__\u001b[0m\u001b[1;33m(\u001b[0m\u001b[0mself\u001b[0m\u001b[1;33m)\u001b[0m\u001b[1;33m:\u001b[0m\u001b[1;33m\u001b[0m\u001b[0m\n",
      "\u001b[1;32mc:\\Users\\omere\\AppData\\Local\\Programs\\Python\\Python36-32\\lib\\site-packages\\pandas\\io\\excel\\_openpyxl.py\u001b[0m in \u001b[0;36m__init__\u001b[1;34m(self, filepath_or_buffer)\u001b[0m\n\u001b[0;32m    477\u001b[0m             \u001b[0mObject\u001b[0m \u001b[0mto\u001b[0m \u001b[0mbe\u001b[0m \u001b[0mparsed\u001b[0m\u001b[1;33m.\u001b[0m\u001b[1;33m\u001b[0m\u001b[0m\n\u001b[0;32m    478\u001b[0m         \"\"\"\n\u001b[1;32m--> 479\u001b[1;33m         \u001b[0mimport_optional_dependency\u001b[0m\u001b[1;33m(\u001b[0m\u001b[1;34m\"openpyxl\"\u001b[0m\u001b[1;33m)\u001b[0m\u001b[1;33m\u001b[0m\u001b[0m\n\u001b[0m\u001b[0;32m    480\u001b[0m         \u001b[0msuper\u001b[0m\u001b[1;33m(\u001b[0m\u001b[1;33m)\u001b[0m\u001b[1;33m.\u001b[0m\u001b[0m__init__\u001b[0m\u001b[1;33m(\u001b[0m\u001b[0mfilepath_or_buffer\u001b[0m\u001b[1;33m)\u001b[0m\u001b[1;33m\u001b[0m\u001b[0m\n\u001b[0;32m    481\u001b[0m \u001b[1;33m\u001b[0m\u001b[0m\n",
      "\u001b[1;32mc:\\Users\\omere\\AppData\\Local\\Programs\\Python\\Python36-32\\lib\\site-packages\\pandas\\compat\\_optional.py\u001b[0m in \u001b[0;36mimport_optional_dependency\u001b[1;34m(name, extra, raise_on_missing, on_version)\u001b[0m\n\u001b[0;32m    108\u001b[0m     \u001b[1;32mexcept\u001b[0m \u001b[0mImportError\u001b[0m\u001b[1;33m:\u001b[0m\u001b[1;33m\u001b[0m\u001b[0m\n\u001b[0;32m    109\u001b[0m         \u001b[1;32mif\u001b[0m \u001b[0mraise_on_missing\u001b[0m\u001b[1;33m:\u001b[0m\u001b[1;33m\u001b[0m\u001b[0m\n\u001b[1;32m--> 110\u001b[1;33m             \u001b[1;32mraise\u001b[0m \u001b[0mImportError\u001b[0m\u001b[1;33m(\u001b[0m\u001b[0mmsg\u001b[0m\u001b[1;33m)\u001b[0m \u001b[1;32mfrom\u001b[0m \u001b[1;32mNone\u001b[0m\u001b[1;33m\u001b[0m\u001b[0m\n\u001b[0m\u001b[0;32m    111\u001b[0m         \u001b[1;32melse\u001b[0m\u001b[1;33m:\u001b[0m\u001b[1;33m\u001b[0m\u001b[0m\n\u001b[0;32m    112\u001b[0m             \u001b[1;32mreturn\u001b[0m \u001b[1;32mNone\u001b[0m\u001b[1;33m\u001b[0m\u001b[0m\n",
      "\u001b[1;31mImportError\u001b[0m: Missing optional dependency 'openpyxl'.  Use pip or conda to install openpyxl."
     ]
    }
   ],
   "source": [
    "# Read and process transaction data\n",
    "df = pd.read_excel(\"yeni.xlsx\", sheet_name=\"Sheet1\", engine=\"openpyxl\")\n",
    "\n",
    "# Define coffee vendors\n",
    "coffee_keywords = [\"starbucks\", \"espresso\", \"coffy\", \"yukselen\",\"SABANCI UNIVERSITESI TEMASSIZ\".lower()]\n",
    "\n",
    "brand_count = {\n",
    "    \"Starbucks\":0,\n",
    "    \"EspressoLab\":0,\n",
    "    \"Coffy\":0,\n",
    "    \"Fasshane\":0\n",
    "}\n",
    "\n",
    "# Count transactions by vendor\n",
    "for a in df['Açıklama']:\n",
    "    if a.lower().find('starbucks')!=-1:\n",
    "        brand_count['Starbucks']+=1\n",
    "    elif a.lower().find('espresso')!=-1:\n",
    "        brand_count['EspressoLab']+=1\n",
    "    elif a.lower().find('coffy')!=-1 or a.lower().find(\"SABANCI UNIVERSITESI TEMASSIZ\".lower())!=-1:\n",
    "        brand_count['Coffy']+=1\n",
    "    elif 'YUKSELEN' in a:\n",
    "        brand_count['Fasshane']+=1\n",
    "\n",
    "# Filter coffee transactions\n",
    "df[\"IsCoffee\"] = df[\"Açıklama\"].apply(\n",
    "    lambda x: any(keyword.lower() in str(x).lower() for keyword in coffee_keywords)\n",
    ")\n",
    "\n",
    "df_coffee = df[df[\"IsCoffee\"] == True]\n",
    "print(f\"Total coffee transactions:{len(df_coffee)} \")"
   ]
  },
  {
   "cell_type": "markdown",
   "metadata": {},
   "source": [
    "## Exam Period Definition\n",
    "\n",
    "We'll calculate the total number of exam days based on the university's academic calendar. This includes:\n",
    "- First Final: January 8-20, 2023\n",
    "- First Midterm: April 11-24, 2023\n",
    "- Second Final: May 30 - June 11, 2023\n",
    "And subsequent exam periods through January 2025."
   ]
  },
  {
   "cell_type": "code",
   "execution_count": 3,
   "metadata": {},
   "outputs": [],
   "source": [
    "def calculate_num_of_exam_days():\n",
    "    exam_periods = [\n",
    "        (\"2023-01-08\", \"2023-01-20\"),\n",
    "        (\"2023-04-11\", \"2023-04-24\"),\n",
    "        (\"2023-05-30\", \"2023-06-11\"),\n",
    "        (\"2023-11-06\", \"2023-11-18\"),\n",
    "        (\"2024-01-05\", \"2024-01-19\"),\n",
    "        (\"2024-03-22\", \"2024-04-03\"),\n",
    "        (\"2024-05-29\", \"2024-06-09\"),\n",
    "        (\"2024-11-01\", \"2024-11-16\"),\n",
    "        (\"2024-11-29\", \"2024-12-14\"),\n",
    "        (\"2025-01-01\", \"2025-01-12\")\n",
    "    ]\n",
    "    total_exam_days = 0\n",
    "    for start_date_str, end_date_str in exam_periods:\n",
    "        start_date = pd.to_datetime(start_date_str)\n",
    "        end_date = pd.to_datetime(end_date_str)\n",
    "        num_days = (end_date - start_date).days + 1\n",
    "        total_exam_days += num_days\n",
    "    return total_exam_days"
   ]
  },
  {
   "cell_type": "markdown",
   "metadata": {},
   "source": [
    "## Statistical Analysis\n",
    "\n",
    "We'll perform a chi-squared test to evaluate whether there's a significant difference in coffee transaction frequency between exam and normal periods. This will help us test our hypothesis about exam period effects on coffee consumption."
   ]
  },
  {
   "cell_type": "code",
   "execution_count": 4,
   "metadata": {},
   "outputs": [
    {
     "ename": "NameError",
     "evalue": "name 'df' is not defined",
     "output_type": "error",
     "traceback": [
      "\u001b[1;31m---------------------------------------------------------------------------\u001b[0m",
      "\u001b[1;31mNameError\u001b[0m                                 Traceback (most recent call last)",
      "\u001b[1;32m<ipython-input-4-50c66854dee9>\u001b[0m in \u001b[0;36m<module>\u001b[1;34m\u001b[0m\n\u001b[0;32m     21\u001b[0m     \u001b[1;32mreturn\u001b[0m \u001b[1;34m\"Normal\"\u001b[0m\u001b[1;33m\u001b[0m\u001b[0m\n\u001b[0;32m     22\u001b[0m \u001b[1;33m\u001b[0m\u001b[0m\n\u001b[1;32m---> 23\u001b[1;33m \u001b[0mdf\u001b[0m\u001b[1;33m[\u001b[0m\u001b[1;34m\"Period_Type\"\u001b[0m\u001b[1;33m]\u001b[0m \u001b[1;33m=\u001b[0m \u001b[0mdf\u001b[0m\u001b[1;33m[\u001b[0m\u001b[1;34m\"Tarih\"\u001b[0m\u001b[1;33m]\u001b[0m\u001b[1;33m.\u001b[0m\u001b[0mapply\u001b[0m\u001b[1;33m(\u001b[0m\u001b[1;32mlambda\u001b[0m \u001b[0md\u001b[0m\u001b[1;33m:\u001b[0m \u001b[0min_exam_period\u001b[0m\u001b[1;33m(\u001b[0m\u001b[0md\u001b[0m\u001b[1;33m,\u001b[0m \u001b[0mexam_periods\u001b[0m\u001b[1;33m)\u001b[0m\u001b[1;33m)\u001b[0m\u001b[1;33m\u001b[0m\u001b[0m\n\u001b[0m\u001b[0;32m     24\u001b[0m \u001b[1;33m\u001b[0m\u001b[0m\n\u001b[0;32m     25\u001b[0m \u001b[0mexam_count\u001b[0m \u001b[1;33m=\u001b[0m \u001b[0mdf\u001b[0m\u001b[1;33m[\u001b[0m\u001b[0mdf\u001b[0m\u001b[1;33m[\u001b[0m\u001b[1;34m\"Period_Type\"\u001b[0m\u001b[1;33m]\u001b[0m \u001b[1;33m==\u001b[0m \u001b[1;34m\"Exam\"\u001b[0m\u001b[1;33m]\u001b[0m\u001b[1;33m.\u001b[0m\u001b[0mshape\u001b[0m\u001b[1;33m[\u001b[0m\u001b[1;36m0\u001b[0m\u001b[1;33m]\u001b[0m\u001b[1;33m\u001b[0m\u001b[0m\n",
      "\u001b[1;31mNameError\u001b[0m: name 'df' is not defined"
     ]
    }
   ],
   "source": [
    "exam_periods = [\n",
    "    (\"2023-01-08\", \"2023-01-20\"),\n",
    "    (\"2023-04-11\", \"2023-04-24\"),\n",
    "    (\"2023-05-30\", \"2023-06-11\"),\n",
    "    (\"2023-11-06\", \"2023-11-18\"),\n",
    "    (\"2024-01-05\", \"2024-01-19\"),\n",
    "    (\"2024-03-22\", \"2024-04-03\"),\n",
    "    (\"2024-05-29\", \"2024-06-09\"),\n",
    "    (\"2024-11-01\", \"2024-11-16\"),\n",
    "    (\"2024-11-29\", \"2024-12-14\"),\n",
    "    (\"2025-01-01\", \"2025-01-12\")\n",
    "]\n",
    "\n",
    "def in_exam_period(date, periods):\n",
    "    date = pd.to_datetime(date)\n",
    "    for start, end in periods:\n",
    "        start_date = pd.to_datetime(start)\n",
    "        end_date = pd.to_datetime(end)\n",
    "        if start_date <= date <= end_date:\n",
    "            return \"Exam\"\n",
    "    return \"Normal\"\n",
    "\n",
    "df[\"Period_Type\"] = df[\"Tarih\"].apply(lambda d: in_exam_period(d, exam_periods))\n",
    "\n",
    "exam_count = df[df[\"Period_Type\"] == \"Exam\"].shape[0]\n",
    "normal_count = df[df[\"Period_Type\"] == \"Normal\"].shape[0]\n",
    "\n",
    "exam_total = calculate_num_of_exam_days()\n",
    "normal_total = 732\n",
    "\n",
    "A = exam_count\n",
    "B = A - exam_total\n",
    "C = normal_count\n",
    "D = C - normal_total\n",
    "\n",
    "contingency_table = np.array([[A, B], [C, D]])\n",
    "chi2, p, dof, expected = chi2_contingency(contingency_table)\n",
    "\n",
    "print(\"Chi-Square:\", chi2)\n",
    "print(\"p-value:\", p)"
   ]
  },
  {
   "cell_type": "markdown",
   "metadata": {},
   "source": [
    "## Visualization Analysis\n",
    "\n",
    "We'll create several visualizations to analyze the data:\n",
    "1. Bar plot comparing exam vs normal period transactions\n",
    "2. Transaction distribution by coffee vendor\n",
    "3. Monthly transaction trends\n",
    "4. Yearly spending analysis"
   ]
  },
  {
   "cell_type": "code",
   "execution_count": null,
   "metadata": {},
   "outputs": [],
   "source": [
    "# Transaction Frequency Comparison\n",
    "plt.figure(figsize=(8, 6))\n",
    "coffee_transactions = df[df['IsCoffee'] == True]\n",
    "df_exam = coffee_transactions[coffee_transactions[\"Period_Type\"] == \"Exam\"]\n",
    "df_normal = coffee_transactions[coffee_transactions[\"Period_Type\"] == \"Normal\"]\n",
    "\n",
    "print(f\"Coffee transactions during exam period: {len(df_exam)}\")\n",
    "print(f\"Coffee transactions during normal period: {len(df_normal)}\")\n",
    "\n",
    "coffee_counts = coffee_transactions.groupby(\"Period_Type\")[\"IsCoffee\"].count()\n",
    "coffee_counts.plot(kind=\"bar\", color=[\"orange\", \"blue\"])\n",
    "plt.title(\"Coffee Transaction Count: Exam vs. Normal Periods\")\n",
    "plt.xlabel(\"Period Type\")\n",
    "plt.ylabel(\"Number of Transactions\")\n",
    "plt.show()"
   ]
  },
  {
   "cell_type": "code",
   "execution_count": null,
   "metadata": {},
   "outputs": [],
   "source": [
    "# Brand Distribution Analysis\n",
    "plt.figure(figsize=(10, 6))\n",
    "brands = list(brand_count.keys())\n",
    "counts = list(brand_count.values())\n",
    "plt.bar(brands, counts, color=['green', 'red', 'blue', 'purple'])\n",
    "plt.title('Brand Purchases')\n",
    "plt.xlabel('Brands')\n",
    "plt.ylabel('Purchase Count')\n",
    "plt.show()"
   ]
  },
  {
   "cell_type": "markdown",
   "metadata": {},
   "source": [
    "## Findings and Conclusion\n",
    "\n",
    "Based on our analysis:\n",
    "1. Statistical results show no significant difference in coffee transaction frequency during exam periods (p > 0.05)\n",
    "2. Total transactions:\n",
    "   - Exam periods: 31\n",
    "   - Normal periods: 146\n",
    "3. Brand preferences show varying patterns of usage\n",
    "\n",
    "### Limitations\n",
    "- Analysis based on personal data only\n",
    "- May not be generalizable to broader population\n",
    "- Limited to specific coffee vendors"
   ]
  }
 ],
 "metadata": {
  "kernelspec": {
   "display_name": "Python 3",
   "language": "python",
   "name": "python3"
  },
  "language_info": {
   "codemirror_mode": {
    "name": "ipython",
    "version": 3
   },
   "file_extension": ".py",
   "mimetype": "text/x-python",
   "name": "python",
   "nbconvert_exporter": "python",
   "pygments_lexer": "ipython3",
   "version": "3.6.2"
  }
 },
 "nbformat": 4,
 "nbformat_minor": 2
}
