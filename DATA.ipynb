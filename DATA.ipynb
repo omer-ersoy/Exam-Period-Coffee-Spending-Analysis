{
 "cells": [
  {
   "cell_type": "markdown",
   "metadata": {},
   "source": [
    "# Coffee Transaction Analysis During Exam Periods\n",
    "\n",
    "This analysis investigates whether coffee transaction frequency increases during midterm and final exam periods. We'll analyze personal spending data to determine if exam periods have a significant impact on coffee consumption patterns.\n",
    "\n",
    "## Hypothesis\n",
    "- **H0 (Null)**: No significant difference in coffee transaction frequency between exam and normal periods\n",
    "- **H1 (Alternative)**: Exam periods have a significant impact on coffee transaction frequency"
   ]
  },
  {
   "cell_type": "code",
   "execution_count": null,
   "metadata": {},
   "outputs": [],
   "source": [
    "import pandas as pd\n",
    "import numpy as np\n",
    "from datetime import datetime\n",
    "from scipy.stats import chi2_contingency\n",
    "import matplotlib.pyplot as plt"
   ]
  },
  {
   "cell_type": "markdown",
   "metadata": {},
   "source": [
    "## Data Preparation\n",
    "\n",
    "We'll process the transaction data following these steps:\n",
    "1. Read personal bank statement data\n",
    "2. Filter for coffee-related transactions\n",
    "3. Track transactions by vendor\n",
    "4. Identify transactions during exam periods"
   ]
  },
  {
   "cell_type": "code",
   "execution_count": null,
   "metadata": {},
   "outputs": [],
   "source": [
    "# Read and process transaction data\n",
    "df = pd.read_excel(\"yeni.xlsx\", sheet_name=\"Sheet1\", engine=\"openpyxl\")\n",
    "\n",
    "# Define coffee vendors\n",
    "coffee_keywords = [\"starbucks\", \"espresso\", \"coffy\", \"yukselen\",\"SABANCI UNIVERSITESI TEMASSIZ\".lower()]\n",
    "\n",
    "brand_count = {\n",
    "    \"Starbucks\":0,\n",
    "    \"EspressoLab\":0,\n",
    "    \"Coffy\":0,\n",
    "    \"Fasshane\":0\n",
    "}\n",
    "\n",
    "# Count transactions by vendor\n",
    "for a in df['Açıklama']:\n",
    "    if a.lower().find('starbucks')!=-1:\n",
    "        brand_count['Starbucks']+=1\n",
    "    elif a.lower().find('espresso')!=-1:\n",
    "        brand_count['EspressoLab']+=1\n",
    "    elif a.lower().find('coffy')!=-1 or a.lower().find(\"SABANCI UNIVERSITESI TEMASSIZ\".lower())!=-1:\n",
    "        brand_count['Coffy']+=1\n",
    "    elif 'YUKSELEN' in a:\n",
    "        brand_count['Fasshane']+=1\n",
    "\n",
    "# Filter coffee transactions\n",
    "df[\"IsCoffee\"] = df[\"Açıklama\"].apply(\n",
    "    lambda x: any(keyword.lower() in str(x).lower() for keyword in coffee_keywords)\n",
    ")\n",
    "\n",
    "df_coffee = df[df[\"IsCoffee\"] == True]\n",
    "print(f\"Total coffee transactions:{len(df_coffee)} \")"
   ]
  },
  {
   "cell_type": "markdown",
   "metadata": {},
   "source": [
    "## Exam Period Definition\n",
    "\n",
    "We'll calculate the total number of exam days based on the university's academic calendar. This includes:\n",
    "- First Final: January 8-20, 2023\n",
    "- First Midterm: April 11-24, 2023\n",
    "- Second Final: May 30 - June 11, 2023\n",
    "And subsequent exam periods through January 2025."
   ]
  },
  {
   "cell_type": "code",
   "execution_count": null,
   "metadata": {},
   "outputs": [],
   "source": [
    "def calculate_num_of_exam_days():\n",
    "    exam_periods = [\n",
    "        (\"2023-01-08\", \"2023-01-20\"),\n",
    "        (\"2023-04-11\", \"2023-04-24\"),\n",
    "        (\"2023-05-30\", \"2023-06-11\"),\n",
    "        (\"2023-11-06\", \"2023-11-18\"),\n",
    "        (\"2024-01-05\", \"2024-01-19\"),\n",
    "        (\"2024-03-22\", \"2024-04-03\"),\n",
    "        (\"2024-05-29\", \"2024-06-09\"),\n",
    "        (\"2024-11-01\", \"2024-11-16\"),\n",
    "        (\"2024-11-29\", \"2024-12-14\"),\n",
    "        (\"2025-01-01\", \"2025-01-12\")\n",
    "    ]\n",
    "    total_exam_days = 0\n",
    "    for start_date_str, end_date_str in exam_periods:\n",
    "        start_date = pd.to_datetime(start_date_str)\n",
    "        end_date = pd.to_datetime(end_date_str)\n",
    "        num_days = (end_date - start_date).days + 1\n",
    "        total_exam_days += num_days\n",
    "    return total_exam_days"
   ]
  },
  {
   "cell_type": "markdown",
   "metadata": {},
   "source": [
    "## Statistical Analysis\n",
    "\n",
    "We'll perform a chi-squared test to evaluate whether there's a significant difference in coffee transaction frequency between exam and normal periods. This will help us test our hypothesis about exam period effects on coffee consumption."
   ]
  },
  {
   "cell_type": "code",
   "execution_count": null,
   "metadata": {},
   "outputs": [],
   "source": [
    "exam_periods = [\n",
    "    (\"2023-01-08\", \"2023-01-20\"),\n",
    "    (\"2023-04-11\", \"2023-04-24\"),\n",
    "    (\"2023-05-30\", \"2023-06-11\"),\n",
    "    (\"2023-11-06\", \"2023-11-18\"),\n",
    "    (\"2024-01-05\", \"2024-01-19\"),\n",
    "    (\"2024-03-22\", \"2024-04-03\"),\n",
    "    (\"2024-05-29\", \"2024-06-09\"),\n",
    "    (\"2024-11-01\", \"2024-11-16\"),\n",
    "    (\"2024-11-29\", \"2024-12-14\"),\n",
    "    (\"2025-01-01\", \"2025-01-12\")\n",
    "]\n",
    "\n",
    "def in_exam_period(date, periods):\n",
    "    date = pd.to_datetime(date)\n",
    "    for start, end in periods:\n",
    "        start_date = pd.to_datetime(start)\n",
    "        end_date = pd.to_datetime(end)\n",
    "        if start_date <= date <= end_date:\n",
    "            return \"Exam\"\n",
    "    return \"Normal\"\n",
    "\n",
    "df[\"Period_Type\"] = df[\"Tarih\"].apply(lambda d: in_exam_period(d, exam_periods))\n",
    "\n",
    "exam_count = df[df[\"Period_Type\"] == \"Exam\"].shape[0]\n",
    "normal_count = df[df[\"Period_Type\"] == \"Normal\"].shape[0]\n",
    "\n",
    "exam_total = calculate_num_of_exam_days()\n",
    "normal_total = 732\n",
    "\n",
    "A = exam_count\n",
    "B = A - exam_total\n",
    "C = normal_count\n",
    "D = C - normal_total\n",
    "\n",
    "contingency_table = np.array([[A, B], [C, D]])\n",
    "chi2, p, dof, expected = chi2_contingency(contingency_table)\n",
    "\n",
    "print(\"Chi-Square:\", chi2)\n",
    "print(\"p-value:\", p)"
   ]
  },
  {
   "cell_type": "markdown",
   "metadata": {},
   "source": [
    "## Visualization Analysis\n",
    "\n",
    "We'll create several visualizations to analyze the data:\n",
    "1. Bar plot comparing exam vs normal period transactions\n",
    "2. Transaction distribution by coffee vendor\n",
    "3. Monthly transaction trends\n",
    "4. Yearly spending analysis"
   ]
  },
  {
   "cell_type": "code",
   "execution_count": null,
   "metadata": {},
   "outputs": [],
   "source": [
    "# Transaction Frequency Comparison\n",
    "plt.figure(figsize=(8, 6))\n",
    "coffee_transactions = df[df['IsCoffee'] == True]\n",
    "df_exam = coffee_transactions[coffee_transactions[\"Period_Type\"] == \"Exam\"]\n",
    "df_normal = coffee_transactions[coffee_transactions[\"Period_Type\"] == \"Normal\"]\n",
    "\n",
    "print(f\"Coffee transactions during exam period: {len(df_exam)}\")\n",
    "print(f\"Coffee transactions during normal period: {len(df_normal)}\")\n",
    "\n",
    "coffee_counts = coffee_transactions.groupby(\"Period_Type\")[\"IsCoffee\"].count()\n",
    "coffee_counts.plot(kind=\"bar\", color=[\"orange\", \"blue\"])\n",
    "plt.title(\"Coffee Transaction Count: Exam vs. Normal Periods\")\n",
    "plt.xlabel(\"Period Type\")\n",
    "plt.ylabel(\"Number of Transactions\")\n",
    "plt.show()"
   ]
  },
  {
   "cell_type": "code",
   "execution_count": null,
   "metadata": {},
   "outputs": [],
   "source": [
    "# Brand Distribution Analysis\n",
    "plt.figure(figsize=(10, 6))\n",
    "brands = list(brand_count.keys())\n",
    "counts = list(brand_count.values())\n",
    "plt.bar(brands, counts, color=['green', 'red', 'blue', 'purple'])\n",
    "plt.title('Brand Purchases')\n",
    "plt.xlabel('Brands')\n",
    "plt.ylabel('Purchase Count')\n",
    "plt.show()"
   ]
  },
  {
   "cell_type": "markdown",
   "metadata": {},
   "source": [
    "## Findings and Conclusion\n",
    "\n",
    "Based on our analysis:\n",
    "1. Statistical results show no significant difference in coffee transaction frequency during exam periods (p > 0.05)\n",
    "2. Total transactions:\n",
    "   - Exam periods: 31\n",
    "   - Normal periods: 146\n",
    "3. Brand preferences show varying patterns of usage\n",
    "\n",
    "### Limitations\n",
    "- Analysis based on personal data only\n",
    "- May not be generalizable to broader population\n",
    "- Limited to specific coffee vendors"
   ]
  }
 ],
 "metadata": {
  "language_info": {
   "name": "python"
  }
 },
 "nbformat": 4,
 "nbformat_minor": 2
}
